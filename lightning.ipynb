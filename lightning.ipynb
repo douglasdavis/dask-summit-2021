{
 "cells": [
  {
   "cell_type": "markdown",
   "id": "416d97e3-80d1-4168-9e1d-af30960c6f7a",
   "metadata": {
    "slideshow": {
     "slide_type": "slide"
    },
    "tags": []
   },
   "source": [
    "# Introducing dask-histogram\n",
    "\n",
    "Notebook available here: https://github.com/douglasdavis/dask-summit-2021"
   ]
  },
  {
   "cell_type": "markdown",
   "id": "1d7dd905-3f97-43ec-bfde-baf4fb773479",
   "metadata": {},
   "source": [
    "Part I: `dask.array` Histogramming\n",
    "==================================\n",
    "\n",
    "`dask.array` provides histogramming via it's NumPy interface. ([N-dimensional histogram support was added quite recently!](https://github.com/dask/dask/issues/7307))"
   ]
  },
  {
   "cell_type": "code",
   "execution_count": null,
   "id": "286b4beb-8639-47b3-b8cd-3ae11b152cef",
   "metadata": {
    "slideshow": {
     "slide_type": "slide"
    },
    "tags": []
   },
   "outputs": [],
   "source": [
    "import dask.array as da\n",
    "x0 = da.random.standard_normal(size=(10_000_000,), chunks=(2_500_000,))\n",
    "x0"
   ]
  },
  {
   "cell_type": "code",
   "execution_count": null,
   "id": "c6788cd8-4594-4a42-87f6-e87485f9b45e",
   "metadata": {
    "slideshow": {
     "slide_type": "slide"
    },
    "tags": []
   },
   "outputs": [],
   "source": [
    "counts, edges = da.histogram(x0, bins=18, range=(-5, 5))\n",
    "counts"
   ]
  },
  {
   "cell_type": "code",
   "execution_count": null,
   "id": "61fe2946-6e8e-4cac-b9a3-4086c5a0b291",
   "metadata": {
    "slideshow": {
     "slide_type": "slide"
    },
    "tags": []
   },
   "outputs": [],
   "source": [
    "counts.compute()"
   ]
  },
  {
   "cell_type": "code",
   "execution_count": null,
   "id": "ea40c32c-2fb1-4bc4-9504-2907ead4af17",
   "metadata": {
    "tags": []
   },
   "outputs": [],
   "source": [
    "counts.visualize()"
   ]
  },
  {
   "cell_type": "markdown",
   "id": "5d14345b-91fb-4738-98e1-4e13f81cbba7",
   "metadata": {
    "tags": []
   },
   "source": [
    "Part II: boost-histogram\n",
    "========================\n",
    "\n",
    "Histograms are more than just arrays! The [boost-histogram](https://boost-histogram.readthedocs.io/en/latest/)\n",
    "library provides an object oriented API for histogramming in\n",
    "Python; with analysis tooling via [Hist](https://hist.readthedocs.io/en/latest/) built around it as well. boost-histogram has more features and is more performant than NumPy-histogramming."
   ]
  },
  {
   "cell_type": "code",
   "execution_count": null,
   "id": "f34f54ff",
   "metadata": {
    "tags": []
   },
   "outputs": [],
   "source": [
    "import boost_histogram as bh\n",
    "import numpy as np"
   ]
  },
  {
   "cell_type": "code",
   "execution_count": null,
   "id": "bc66bea4-ce35-44e9-a328-7e5c88b895ab",
   "metadata": {},
   "outputs": [],
   "source": [
    "rng = np.random.default_rng(123)\n",
    "x1 = rng.normal(3, 0.2, size=(5_000,))  # data in the x-dimension\n",
    "y1 = rng.normal(5, 2.0, size=(5_000,))  # data in the y-dimension\n",
    "w1 = rng.normal(4, 1.0, size=(5_000,))  # weights for each sample ((x, y) pair)"
   ]
  },
  {
   "cell_type": "code",
   "execution_count": null,
   "id": "a154a497-357c-4bc8-9115-738a72030a93",
   "metadata": {
    "slideshow": {
     "slide_type": "slide"
    },
    "tags": []
   },
   "outputs": [],
   "source": [
    "# OO API\n",
    "h1 = bh.Histogram(\n",
    "    bh.axis.Regular(12, 2.5, 3.5),\n",
    "    bh.axis.Regular(18, 0.0, 10.0),\n",
    "    storage=bh.storage.Weight(),\n",
    ")\n",
    "h1"
   ]
  },
  {
   "cell_type": "code",
   "execution_count": null,
   "id": "a589acbc-f4f3-4ab4-af66-b755065db1f0",
   "metadata": {
    "slideshow": {
     "slide_type": "slide"
    },
    "tags": []
   },
   "outputs": [],
   "source": [
    "h1 = h1.fill(x1, y1, weight=w1)\n",
    "h1"
   ]
  },
  {
   "cell_type": "code",
   "execution_count": null,
   "id": "0435042d-c6b6-4c6f-8d61-b2485ec21a48",
   "metadata": {},
   "outputs": [],
   "source": [
    "# Array function API\n",
    "h2 = bh.numpy.histogram2d(x1, y1, bins=(12, 18), range=((2.5, 3.5), (0, 10)), weights=w1,\n",
    "                          storage=bh.storage.Weight(), histogram=bh.Histogram)"
   ]
  },
  {
   "cell_type": "code",
   "execution_count": null,
   "id": "6e644aa6-43f8-4977-a185-2094796f6745",
   "metadata": {},
   "outputs": [],
   "source": [
    "np.allclose(h1.counts(), h2.counts())"
   ]
  },
  {
   "cell_type": "code",
   "execution_count": null,
   "id": "b0d75de6-fb78-42b6-a4af-f1ce342b3bf0",
   "metadata": {},
   "outputs": [],
   "source": [
    "import hist\n",
    "h1 = hist.Hist(h1)\n",
    "h1"
   ]
  },
  {
   "cell_type": "code",
   "execution_count": null,
   "id": "0674e386-f294-4074-bca0-945a59a8f5cc",
   "metadata": {},
   "outputs": [],
   "source": [
    "_ = h1.plot2d_full()"
   ]
  },
  {
   "cell_type": "code",
   "execution_count": null,
   "id": "07d80fb1-bb42-45dc-881c-6300ef161fe6",
   "metadata": {},
   "outputs": [],
   "source": [
    "_ = h1.project(0).plot1d()"
   ]
  },
  {
   "cell_type": "markdown",
   "id": "87a345bd-393e-400a-8caa-71c5936db456",
   "metadata": {},
   "source": [
    "Part IIIa: dask-histogram basics\n",
    "================================\n",
    "\n",
    "dask-histogram builds on boost-histogram, providing a Histogram object that is lazy-fillable with Dask collections."
   ]
  },
  {
   "cell_type": "code",
   "execution_count": null,
   "id": "416a2a2e",
   "metadata": {
    "tags": []
   },
   "outputs": [],
   "source": [
    "import dask_histogram as dh\n",
    "x2 = da.random.normal(3, 0.2, size=(5_000_000,), chunks=(1_000_000,))\n",
    "y2 = da.random.normal(5, 2.0, size=(5_000_000,), chunks=(1_000_000,))\n",
    "w2 = da.random.normal(4, 1.0, size=(5_000_000,), chunks=(1_000_000,))"
   ]
  },
  {
   "cell_type": "code",
   "execution_count": null,
   "id": "229f0e22-403d-4094-8c7d-212a55694ade",
   "metadata": {},
   "outputs": [],
   "source": [
    "h = dh.Histogram(\n",
    "    dh.axis.Regular(12, 2.5, 3.5),\n",
    "    dh.axis.Regular(18, 0.0, 10.0),\n",
    "    storage=dh.storage.Weight(),\n",
    ")\n",
    "h"
   ]
  },
  {
   "cell_type": "code",
   "execution_count": null,
   "id": "cb55ce52-a253-4acd-a970-571cfa166339",
   "metadata": {},
   "outputs": [],
   "source": [
    "h.fill(x2, y2, weight=w2)"
   ]
  },
  {
   "cell_type": "code",
   "execution_count": null,
   "id": "7a8acdc7-ca67-460b-abcc-c5f3f3e34173",
   "metadata": {},
   "outputs": [],
   "source": [
    "h.empty(), h.staged_fills()"
   ]
  },
  {
   "cell_type": "code",
   "execution_count": null,
   "id": "24cc08c8-9f0d-4242-8dd5-a50de74c13b3",
   "metadata": {},
   "outputs": [],
   "source": [
    "h.visualize()"
   ]
  },
  {
   "cell_type": "code",
   "execution_count": null,
   "id": "a811c216-34b5-45f5-9be5-f69b5fc62e92",
   "metadata": {},
   "outputs": [],
   "source": [
    "h.compute()"
   ]
  },
  {
   "cell_type": "code",
   "execution_count": null,
   "id": "dd8c4081-c301-4dda-9086-ab2a62c92782",
   "metadata": {},
   "outputs": [],
   "source": [
    "hist.Hist(h)"
   ]
  },
  {
   "cell_type": "markdown",
   "id": "09902912-82ed-46d6-8f28-85084572f962",
   "metadata": {},
   "source": [
    "Part IIIb: dask-histogram\n",
    "=========================\n",
    "Small multi-step example"
   ]
  },
  {
   "cell_type": "code",
   "execution_count": null,
   "id": "1f5d465d-89e1-40bc-8de0-4cfd916aefdd",
   "metadata": {},
   "outputs": [],
   "source": [
    "from typing import Tuple\n",
    "import pickle\n",
    "\n",
    "def lazy_data_factory(N: int = 10_000_000, chunks: int = 2_500_000) -> Tuple[da.Array]:\n",
    "    \"\"\"Lazily load data with three weight variations.\"\"\"\n",
    "    x = da.random.standard_normal(size=(N,), chunks=(chunks,))        # data\n",
    "    w1 = da.random.uniform(0.80, 0.90, size=(N,), chunks=(chunks,))   # weight variation 1\n",
    "    w2 = da.random.uniform(0.50, 0.70, size=(N,), chunks=(chunks,))   # weight variation 2\n",
    "    w3 = da.random.uniform(0.10, 0.20, size=(N,), chunks=(chunks,))   # weight variatoon 3\n",
    "    return x, w1, w2, w3\n",
    "\n",
    "def save_histogram(hist: bh.Histogram, name: str) -> None:\n",
    "    \"\"\"Save a histogram to a file.\"\"\"\n",
    "    with open(f\"{name}.pkl\", \"wb\") as f:\n",
    "        pickle.dump(hist, f)"
   ]
  },
  {
   "cell_type": "code",
   "execution_count": null,
   "id": "b730b502-0b32-404a-9974-c57d816daa2f",
   "metadata": {},
   "outputs": [],
   "source": [
    "from dask.delayed import delayed\n",
    "lazy_save = delayed(save_histogram)"
   ]
  },
  {
   "cell_type": "code",
   "execution_count": null,
   "id": "5c5d8c07-bf40-4a8c-96cf-a078943981bb",
   "metadata": {},
   "outputs": [],
   "source": [
    "x, w1, w2, w3 = lazy_data_factory()\n",
    "\n",
    "h1 = dh.histogram(x, bins=30, range=(-3, 3), weights=w1, histogram=dh.Histogram, storage=dh.storage.Weight())\n",
    "h2 = dh.histogram(x, bins=30, range=(-3, 3), weights=w2, histogram=dh.Histogram, storage=dh.storage.Weight())\n",
    "h3 = dh.histogram(x, bins=30, range=(-3, 3), weights=w3, histogram=dh.Histogram, storage=dh.storage.Weight())\n",
    "\n",
    "saves = [lazy_save(ihist.to_delayed(), f\"h{i}\") for i, ihist in enumerate([h1, h2, h3])]"
   ]
  },
  {
   "cell_type": "code",
   "execution_count": null,
   "id": "b7faf10d-aeb6-4b6b-be2a-3457d8c83dfe",
   "metadata": {},
   "outputs": [],
   "source": [
    "import dask\n",
    "dask.visualize(saves)"
   ]
  },
  {
   "cell_type": "code",
   "execution_count": null,
   "id": "4632c300-ae80-44fc-838b-2781bef26211",
   "metadata": {},
   "outputs": [],
   "source": [
    "dask.compute(saves)"
   ]
  },
  {
   "cell_type": "code",
   "execution_count": null,
   "id": "709a0733-9dca-4400-a77f-b431bf13b7a8",
   "metadata": {},
   "outputs": [],
   "source": [
    "import matplotlib.pyplot as plt\n",
    "fig, ax = plt.subplots()\n",
    "for i in [0, 1, 2]:\n",
    "    with open(f\"h{i}.pkl\", \"rb\") as f:\n",
    "        h = pickle.load(f)\n",
    "        hist.Hist(h).plot1d(ax=ax, label=f\"hist{i}\")\n",
    "ax.legend()\n",
    "plt.show()"
   ]
  },
  {
   "cell_type": "markdown",
   "id": "583c3bfd-da82-4e90-ae0c-7fec17dbef6f",
   "metadata": {},
   "source": [
    "Final word\n",
    "==========\n",
    "\n",
    "- Young but usable\n",
    "- https://dask-histogram.readthedocs.io has more examples\n",
    "- Daskifying a task that you have some experience with is a great way to learn how to think in chunks/partitions."
   ]
  }
 ],
 "metadata": {
  "kernelspec": {
   "display_name": "Python 3",
   "language": "python",
   "name": "python3"
  },
  "language_info": {
   "codemirror_mode": {
    "name": "ipython",
    "version": 3
   },
   "file_extension": ".py",
   "mimetype": "text/x-python",
   "name": "python",
   "nbconvert_exporter": "python",
   "pygments_lexer": "ipython3",
   "version": "3.9.4"
  }
 },
 "nbformat": 4,
 "nbformat_minor": 5
}
