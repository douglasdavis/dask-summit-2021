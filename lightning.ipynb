{
 "cells": [
  {
   "cell_type": "markdown",
   "id": "1d7dd905-3f97-43ec-bfde-baf4fb773479",
   "metadata": {},
   "source": [
    "`dask.array` Histogramming\n",
    "==========================\n",
    "\n",
    "`dask.array` provides histogramming via it's NumPy interface. ([N-dimensional histogram support was added quite recently!](https://github.com/dask/dask/issues/7307))"
   ]
  },
  {
   "cell_type": "code",
   "execution_count": null,
   "id": "286b4beb-8639-47b3-b8cd-3ae11b152cef",
   "metadata": {},
   "outputs": [],
   "source": [
    "import dask.array as da\n",
    "x0 = da.random.standard_normal(size=(10_000_000,), chunks=(2_500_000,))\n",
    "x0"
   ]
  },
  {
   "cell_type": "code",
   "execution_count": null,
   "id": "c6788cd8-4594-4a42-87f6-e87485f9b45e",
   "metadata": {},
   "outputs": [],
   "source": [
    "counts, edges = da.histogram(x0, bins=18, range=(-5, 5))\n",
    "counts"
   ]
  },
  {
   "cell_type": "code",
   "execution_count": null,
   "id": "ea40c32c-2fb1-4bc4-9504-2907ead4af17",
   "metadata": {},
   "outputs": [],
   "source": [
    "counts.visualize()"
   ]
  },
  {
   "cell_type": "code",
   "execution_count": null,
   "id": "61fe2946-6e8e-4cac-b9a3-4086c5a0b291",
   "metadata": {},
   "outputs": [],
   "source": [
    "result = counts.compute()\n",
    "result"
   ]
  },
  {
   "cell_type": "markdown",
   "id": "5d14345b-91fb-4738-98e1-4e13f81cbba7",
   "metadata": {},
   "source": [
    "boost-histogram\n",
    "===============\n",
    "\n",
    "The [boost-histogram](https://boost-histogram.readthedocs.io/en/latest/)\n",
    "library provides an object oriented API for histogramming in\n",
    "Python; with analysis tooling via [Hist](https://hist.readthedocs.io/en/latest/) built around it as well. boost-histogram has more features and is more performant than NumPy-histogramming."
   ]
  },
  {
   "cell_type": "code",
   "execution_count": null,
   "id": "f34f54ff",
   "metadata": {},
   "outputs": [],
   "source": [
    "import boost_histogram as bh\n",
    "import numpy as np"
   ]
  },
  {
   "cell_type": "code",
   "execution_count": null,
   "id": "bc66bea4-ce35-44e9-a328-7e5c88b895ab",
   "metadata": {},
   "outputs": [],
   "source": [
    "rng = np.random.default_rng(123)\n",
    "x1 = rng.normal(3, 0.2, size=(5_000,))\n",
    "y1 = rng.normal(5, 2.0, size=(5_000,))\n",
    "w1 = rng.normal(4, 1.0, size=(5_000,))"
   ]
  },
  {
   "cell_type": "code",
   "execution_count": null,
   "id": "36ad80fe-8b65-409d-b80b-a8642a4785c2",
   "metadata": {},
   "outputs": [],
   "source": [
    "h1 = bh.Histogram(\n",
    "    bh.axis.Regular(12, 2.5, 3.5),\n",
    "    bh.axis.Regular(18, 0.0, 10.0),\n",
    "    storage=bh.storage.Weight(),\n",
    ")\n",
    "h1 = h1.fill(x1, y1, weight=w1)\n",
    "h1"
   ]
  },
  {
   "cell_type": "code",
   "execution_count": null,
   "id": "0435042d-c6b6-4c6f-8d61-b2485ec21a48",
   "metadata": {},
   "outputs": [],
   "source": [
    "h2 = bh.numpy.histogram2d(x1, y1, bins=(12, 18), range=((2.5, 3.5), (0, 10)), weights=w1,\n",
    "                          storage=bh.storage.Weight(), histogram=bh.Histogram)"
   ]
  },
  {
   "cell_type": "code",
   "execution_count": null,
   "id": "6e644aa6-43f8-4977-a185-2094796f6745",
   "metadata": {},
   "outputs": [],
   "source": [
    "np.allclose(h1.counts(), h2.counts())"
   ]
  },
  {
   "cell_type": "code",
   "execution_count": null,
   "id": "0e0a2197-b895-43e1-abf7-d28da7ab397d",
   "metadata": {},
   "outputs": [],
   "source": [
    "h2"
   ]
  },
  {
   "cell_type": "code",
   "execution_count": null,
   "id": "b0d75de6-fb78-42b6-a4af-f1ce342b3bf0",
   "metadata": {},
   "outputs": [],
   "source": [
    "import hist\n",
    "h1 = hist.Hist(h1)\n",
    "h1"
   ]
  },
  {
   "cell_type": "code",
   "execution_count": null,
   "id": "0674e386-f294-4074-bca0-945a59a8f5cc",
   "metadata": {},
   "outputs": [],
   "source": [
    "_ = h1.plot2d_full()"
   ]
  },
  {
   "cell_type": "code",
   "execution_count": null,
   "id": "07d80fb1-bb42-45dc-881c-6300ef161fe6",
   "metadata": {},
   "outputs": [],
   "source": [
    "_ = h1.project(0).plot1d()"
   ]
  },
  {
   "cell_type": "markdown",
   "id": "87a345bd-393e-400a-8caa-71c5936db456",
   "metadata": {},
   "source": [
    "dask-histogram\n",
    "==============\n",
    "\n",
    "Provides a Histogram object lazy-fillable with Dask collections."
   ]
  },
  {
   "cell_type": "code",
   "execution_count": null,
   "id": "416a2a2e",
   "metadata": {
    "tags": []
   },
   "outputs": [],
   "source": [
    "import dask_histogram as dh\n",
    "x2 = da.random.normal(3, 0.2, size=(5_000_000,), chunks=(1_000_000,))\n",
    "y2 = da.random.normal(5, 2.0, size=(5_000_000,), chunks=(1_000_000,))\n",
    "w2 = da.random.normal(4, 1.0, size=(5_000_000,), chunks=(1_000_000,))"
   ]
  },
  {
   "cell_type": "code",
   "execution_count": null,
   "id": "0b48c951",
   "metadata": {},
   "outputs": [],
   "source": [
    "h = dh.Histogram(\n",
    "    dh.axis.Regular(12, 2.5, 3.5),\n",
    "    dh.axis.Regular(18, 0.0, 10.0),\n",
    "    storage=dh.storage.Weight(),\n",
    ")\n",
    "h.fill(x2, y2, weight=w2)"
   ]
  },
  {
   "cell_type": "code",
   "execution_count": null,
   "id": "7a8acdc7-ca67-460b-abcc-c5f3f3e34173",
   "metadata": {},
   "outputs": [],
   "source": [
    "h.empty()"
   ]
  },
  {
   "cell_type": "code",
   "execution_count": null,
   "id": "24cc08c8-9f0d-4242-8dd5-a50de74c13b3",
   "metadata": {},
   "outputs": [],
   "source": [
    "h.visualize()"
   ]
  },
  {
   "cell_type": "code",
   "execution_count": null,
   "id": "a811c216-34b5-45f5-9be5-f69b5fc62e92",
   "metadata": {},
   "outputs": [],
   "source": [
    "h.compute()"
   ]
  },
  {
   "cell_type": "code",
   "execution_count": null,
   "id": "dd8c4081-c301-4dda-9086-ab2a62c92782",
   "metadata": {},
   "outputs": [],
   "source": [
    "hist.Hist(h)"
   ]
  },
  {
   "cell_type": "code",
   "execution_count": null,
   "id": "1179e312-a2c8-4eae-a3b6-4f1bb5135766",
   "metadata": {},
   "outputs": [],
   "source": [
    "from typing import Tuple\n",
    "from dask.delayed import delayed\n",
    "import dask\n",
    "import pickle\n",
    "\n",
    "def data_factory(N: int = 10_000_000, chunks: int = 2_500_000) -> Tuple[da.Array]:\n",
    "    x = da.random.standard_normal(size=(N,), chunks=(chunks,))\n",
    "    w1 = da.random.uniform(0.80, 0.90, size=(N,), chunks=(chunks,))\n",
    "    w2 = da.random.uniform(0.50, 0.70, size=(N,), chunks=(chunks,))\n",
    "    w3 = da.random.uniform(0.10, 0.20, size=(N,), chunks=(chunks,))\n",
    "    return x, w1, w2, w3\n",
    "\n",
    "def save_histogram(hist: bh.Histogram, name: str) -> None:\n",
    "    with open(f\"{name}.pkl\", \"wb\") as f:\n",
    "        pickle.dump(hist, f)\n",
    "        \n",
    "delayed_save = delayed(save_histogram)"
   ]
  },
  {
   "cell_type": "code",
   "execution_count": null,
   "id": "c4d75b21-f06f-4bd9-94e2-aef54d90c6ad",
   "metadata": {},
   "outputs": [],
   "source": [
    "x, w1, w2, w3 = data_factory()\n",
    "\n",
    "h1 = dh.histogram(x, bins=30, range=(-3, 3), weights=w1, histogram=dh.Histogram, storage=dh.storage.Weight())\n",
    "h2 = dh.histogram(x, bins=30, range=(-3, 3), weights=w2, histogram=dh.Histogram, storage=dh.storage.Weight())\n",
    "h3 = dh.histogram(x, bins=30, range=(-3, 3), weights=w3, histogram=dh.Histogram, storage=dh.storage.Weight())\n",
    "\n",
    "saves = [\n",
    "    delayed_save(ih.to_delayed(), f\"h{i}\")\n",
    "    for i, ih in enumerate([h1, h2, h3])\n",
    "]\n",
    "\n",
    "dask.visualize(saves)"
   ]
  },
  {
   "cell_type": "code",
   "execution_count": null,
   "id": "4632c300-ae80-44fc-838b-2781bef26211",
   "metadata": {},
   "outputs": [],
   "source": [
    "dask.compute(saves)"
   ]
  },
  {
   "cell_type": "code",
   "execution_count": null,
   "id": "709a0733-9dca-4400-a77f-b431bf13b7a8",
   "metadata": {},
   "outputs": [],
   "source": [
    "import matplotlib.pyplot as plt\n",
    "fig, ax = plt.subplots()\n",
    "for i in [0, 1, 2]:\n",
    "    with open(f\"h{i}.pkl\", \"rb\") as f:\n",
    "        h = pickle.load(f)\n",
    "        hist.Hist(h).plot1d(ax=ax, label=f\"hist{i}\")\n",
    "ax.legend()\n",
    "plt.show()"
   ]
  },
  {
   "cell_type": "code",
   "execution_count": null,
   "id": "334dc326-c15c-476d-b417-2d3eb3d70711",
   "metadata": {},
   "outputs": [],
   "source": []
  }
 ],
 "metadata": {
  "kernelspec": {
   "display_name": "Python 3",
   "language": "python",
   "name": "python3"
  },
  "language_info": {
   "codemirror_mode": {
    "name": "ipython",
    "version": 3
   },
   "file_extension": ".py",
   "mimetype": "text/x-python",
   "name": "python",
   "nbconvert_exporter": "python",
   "pygments_lexer": "ipython3",
   "version": "3.9.4"
  }
 },
 "nbformat": 4,
 "nbformat_minor": 5
}
